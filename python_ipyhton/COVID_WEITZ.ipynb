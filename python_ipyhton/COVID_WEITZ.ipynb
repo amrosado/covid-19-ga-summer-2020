{
 "cells": [
  {
   "cell_type": "markdown",
   "metadata": {},
   "source": [
    "# COVID-19 Python Model"
   ]
  },
  {
   "cell_type": "code",
   "execution_count": 4,
   "metadata": {},
   "outputs": [],
   "source": [
    "import numpy as np\n",
    "from scipy.optimize import minimize\n",
    "import matplotlib.pyplot as plt\n",
    "# This makes the plots appear inside the notebook\n",
    "%matplotlib inline\n",
    "from scipy.integrate import odeint"
   ]
  },
  {
   "cell_type": "markdown",
   "metadata": {},
   "source": [
    "## Parameters"
   ]
  },
  {
   "cell_type": "markdown",
   "metadata": {},
   "source": [
    "Population parameters"
   ]
  },
  {
   "cell_type": "code",
   "execution_count": 12,
   "metadata": {},
   "outputs": [],
   "source": [
    "agepars_meanage_in=np.arange(5,95,10)\n",
    "agepars_highage=np.arange(9,99,10)\n",
    "agepars_lowage=np.arange(0,90,10)\n",
    "\n",
    "#Data from 2018 census\n",
    "population_N= 10666108\n",
    "\n",
    "population_agefrac_in = [0.126,0.137,0.139,0.132,0.130,0.129,0.104,0.061,0.036,0.007]\n",
    "myInt = sum(population_agefrac_in)\n",
    "population_agefrac = [x / myInt for x in population_agefrac_in]\n",
    "\n",
    "agepars_meanage= [a * b for a, b in zip(agepars_meanage_in, population_agefrac)]\n",
    "population_meanage = sum(meanage)"
   ]
  },
  {
   "cell_type": "markdown",
   "metadata": {},
   "source": [
    "Check population data - this must sum to ~1.00"
   ]
  },
  {
   "cell_type": "code",
   "execution_count": 13,
   "metadata": {},
   "outputs": [
    {
     "data": {
      "text/plain": [
       "True"
      ]
     },
     "execution_count": 13,
     "metadata": {},
     "output_type": "execute_result"
    }
   ],
   "source": [
    "x = (sum(population_agefrac))\n",
    "y = format(x,'.5f')\n",
    "yy = format(1,'.5f')\n",
    "bool(y==yy)"
   ]
  },
  {
   "cell_type": "markdown",
   "metadata": {},
   "source": [
    "Basic parameters"
   ]
  },
  {
   "cell_type": "code",
   "execution_count": 14,
   "metadata": {},
   "outputs": [],
   "source": [
    "pars_gamma_e=1/4;   #Transition to infectiousness\n",
    "pars_gamma_a=1/6;   #Resolution rate for asymptomatic\n",
    "pars_gamma_s=1/6;   #Resolution rate for symptomatic\n",
    "pars_gamma_h=1/10;  #Resolution rate in hospitals\n",
    "pars_beta_a=4/10;   #Transmission for asymptomatic\n",
    "pars_beta_s=8/10;   #Transmission for symptomatic\n",
    "\n",
    "pars_p=[0.95,0.95,0.90,0.8,0.7,0.6,0.4,0.2,0.2,0.2]         #Fraction asymptomatic\n",
    "\n",
    "pars_overall_p= sum([a * b for a, b in zip(pars_p, population_agefrac)])\n",
    "\n",
    "pars_Itrigger = 500000/population_N #Trigger at 5000 total cases, irrespective of type"
   ]
  },
  {
   "cell_type": "markdown",
   "metadata": {},
   "source": [
    "Age stratification"
   ]
  },
  {
   "cell_type": "code",
   "execution_count": 15,
   "metadata": {},
   "outputs": [],
   "source": [
    "agepars_hosp_frac_in=[0.1,0.3,1.2,3.2,4.9,10.2,16.6,24.3,27.3,27.3]\n",
    "agepars_hosp_frac = [x / 100 for x in agepars_hosp_frac_in]\n",
    "\n",
    "agepars_hosp_crit_in=[5,5,5,5,6.3,12.2,27.4,43.2,70.9,70.9]\n",
    "agepars_hosp_crit = [x / 100 for x in agepars_hosp_crit_in]\n",
    "\n",
    "agepars_crit_die= 0.5*np.ones(len(meanage)+1) ## CHECK\n",
    "agepars_num_ages = len(meanage);\n",
    "\n",
    "N=agepars_num_ages;\n",
    "agepars_S_ids= (1,N)\n",
    "agepars_E_ids= ((N+1),(2*N))\n",
    "agepars_Ia_ids=((2*N+1),(3*N))\n",
    "agepars_Is_ids=((3*N+1),(4*N))\n",
    "agepars_Ihsub_ids=((4*N+1),(5*N))\n",
    "agepars_Ihcri_ids=((5*N+1),(6*N))\n",
    "agepars_R_ids=((6*N+1),(7*N))\n",
    "agepars_D_ids=((7*N+1),(8*N))\n",
    "agepars_Hcum_ids=((8*N+1),(9*N))\n",
    "\n",
    "agepars_IFR_2= [a * b * c * d for a, b, c, d in zip(population_agefrac, agepars_hosp_frac, agepars_hosp_crit, agepars_crit_die)]\n",
    "pp = [a-b for a, b in zip(np.ones(len(pars_p)), pars_p)]\n",
    "agepars_IFR_1= [a*b for a,b in zip(agepars_IFR_2,pp)]\n",
    "agepars_IFR = sum(agepars_IFR_1)"
   ]
  },
  {
   "cell_type": "markdown",
   "metadata": {},
   "source": [
    "Epidemiological parameters"
   ]
  },
  {
   "cell_type": "code",
   "execution_count": 16,
   "metadata": {},
   "outputs": [],
   "source": [
    "pars_Ra=pars_beta_a/pars_gamma_a;\n",
    "pars_Rs=pars_beta_s/pars_gamma_s;\n",
    "\n",
    "\n",
    "x = [a-b for a, b in zip(np.ones(len(pars_p)), pars_p)] #1-pars_p\n",
    "y = [a*b for a,b in zip(x,population_agefrac)] #(1-pars_p*pop_agefrac)\n",
    "z = [a*pars_Rs for a in y] #(1-pars_p*pop_agefrac*pars_Rs)\n",
    "m = [a*b*pars_Ra for a,b in zip(pars_p,population_agefrac)] #(pars_p*pop_agefrac*pars_Ra)\n",
    "pars_R0 = [a*b for a,b in zip(z,m)]\n",
    "\n",
    "#pars_bau=pars;"
   ]
  },
  {
   "cell_type": "markdown",
   "metadata": {},
   "source": [
    "## Initial Conditions"
   ]
  },
  {
   "cell_type": "markdown",
   "metadata": {},
   "source": [
    "TO COMPELTE -- Population initial conditions"
   ]
  },
  {
   "cell_type": "code",
   "execution_count": 17,
   "metadata": {},
   "outputs": [],
   "source": [
    "#Init the population - baseline\n",
    "#pen plus hospitals\n",
    "#SEIaIS (open) and then I_ha I_hs and then R (open) and D (cumulative) age stratified\n",
    "tmpzeros = np.zeros(len(agepars_meanage),dtype = int)\n",
    "outbreak_y0=np.concatenate([population_agefrac,tmpzeros,tmpzeros,tmpzeros,tmpzeros,tmpzeros,tmpzeros,tmpzeros,tmpzeros])\n",
    "\n",
    "#Initiate an outbreak with 500 symptomatic current cases and 7500 asymptomatic cases\n",
    "#effective 8000 total and 25 deaths (based on GA estimates)\n",
    "#Initiate an outbreak\n",
    "outbreak_y0=[a*population_N for a in outbreak_y0]\n",
    "outbreak_y0[2] = outbreak_y0[2]-1\n",
    "\n",
    "#outbreak_y0[12]=1 #CHECK THESE!\n",
    "outbreak_y0=[a/population_N for a in outbreak_y0]\n",
    "\n",
    "outbreak_pTime=365;\n",
    "outbreak_pNear=30;\n",
    "outbreak_pshift=0;"
   ]
  },
  {
   "cell_type": "markdown",
   "metadata": {},
   "source": [
    "## Mathematical Model"
   ]
  },
  {
   "cell_type": "markdown",
   "metadata": {},
   "source": [
    "State level model function (S,E,Ia,Is,R)"
   ]
  },
  {
   "cell_type": "code",
   "execution_count": 18,
   "metadata": {},
   "outputs": [],
   "source": [
    "def dY_dt(Y, t):\n",
    "    ## Algebraic equations ##\n",
    "    Ia=sum(agepars_Ia_ids)\n",
    "    Is=sum(agepars_Is_ids)\n",
    "    R = sum(agepars_R_ids)\n",
    "    S = sum(agepars_S_ids)\n",
    "    E = sum(agepars_E_ids)\n",
    "    \n",
    "    ## Trigger Loop ##\n",
    "    Itot = 1-sum(Y[0])\n",
    "    value = Itot - pars_Itrigger\n",
    "    \n",
    "    if value < 0:\n",
    "        trigger = 0\n",
    "    else:\n",
    "        trigger = 1\n",
    "    \n",
    "    ## Differential variables ##\n",
    "    return [\n",
    "            #Y[0] = S population = agepars_S_ids\n",
    "            -pars_beta_a*Y[0]*Ia - pars_beta_s*Y[0]*Is,\n",
    "        \n",
    "            #Y[1] = E population\n",
    "            pars_beta_a*Y[0]*Ia + pars_beta_s*Y[0]*Is - pars_gamma_e*Y[1],\n",
    "        \n",
    "            #Y[2] = Ia population ## CHECK! -maybe need some element-wise multiplication\n",
    "            np.transpose(pars_p)*pars_gamma_e*Y[1]-pars_gamma_a*Y[2],\n",
    "        \n",
    "            #Y[3] = Is population ## CHECK! -maybe need some element-wise multiplication\n",
    "            np.transpose(np.ones(len(pars_p))-pars_p)*pars_gamma_e*Y[3] - pars_gamma_s*Y[3],\n",
    "        \n",
    "            #Y[4] = Ihsub population\n",
    "            np.transpose(agepars_hosp_frac)*(1-np.transpose(agepars_hosp_crit))*pars_gamma_s*Y[3] - pars_gamma_h*Y[4],\n",
    "        \n",
    "            #Y[5] = Ihcri population\n",
    "            np.transpose(agepars_hosp_frac)*(1-np.transpose(agepars_hosp_crit))*pars_gamma_s*Y[3] - pars_gamma_h*Y[5],\n",
    "        \n",
    "            #Y[6] = R population\n",
    "            (pars_gamma_a*Y[2]) + (pars_gamma_s*Y[3]*(1-np.transpose(agepars_hosp_frac))) + (pars_gamma_h*Y[4]) + (pars_gamma_h*Y[5])*(1-np.transpose(agepars_crit_die)),\n",
    "        \n",
    "            #Y[7] = D population\n",
    "            pars_gamma_h*Y[5]*np.transpose(agepars_crit_die),\n",
    "        \n",
    "            #Y[8] = Hcum population\n",
    "            (np.transpose(agepars_hosp_frac)*(1-np.transpose(agepars_hosp_crit))*pars_gamma_s*Y[3]) + (np.transpose(agepars_hosp_frac)*np.transpose(agepars_hosp_crit)*pars_gamma_s*Y[3]),\n",
    "            \n",
    "            trigger\n",
    "           ]\n"
   ]
  },
  {
   "cell_type": "markdown",
   "metadata": {},
   "source": [
    "Simulating ODE model - COMPLETE - ODE INITIAL CONDS and SOLVER SETTINGS"
   ]
  },
  {
   "cell_type": "code",
   "execution_count": 3,
   "metadata": {},
   "outputs": [
    {
     "ename": "NameError",
     "evalue": "name 'np' is not defined",
     "output_type": "error",
     "traceback": [
      "\u001b[0;31m---------------------------------------------------------------------------\u001b[0m",
      "\u001b[0;31mNameError\u001b[0m                                 Traceback (most recent call last)",
      "\u001b[0;32m<ipython-input-3-ed97a652b201>\u001b[0m in \u001b[0;36m<module>\u001b[0;34m()\u001b[0m\n\u001b[0;32m----> 1\u001b[0;31m \u001b[0mts\u001b[0m \u001b[0;34m=\u001b[0m \u001b[0mnp\u001b[0m\u001b[0;34m.\u001b[0m\u001b[0mlinspace\u001b[0m\u001b[0;34m(\u001b[0m\u001b[0;36m0\u001b[0m\u001b[0;34m,\u001b[0m \u001b[0moutbreak_pTime\u001b[0m\u001b[0;34m,\u001b[0m \u001b[0;36m0.1\u001b[0m\u001b[0;34m)\u001b[0m\u001b[0;34m\u001b[0m\u001b[0m\n\u001b[0m\u001b[1;32m      2\u001b[0m \u001b[0mYs\u001b[0m \u001b[0;34m=\u001b[0m \u001b[0modeint\u001b[0m\u001b[0;34m(\u001b[0m\u001b[0mdY_dt\u001b[0m\u001b[0;34m,\u001b[0m \u001b[0moutbreak_y0\u001b[0m\u001b[0;34m,\u001b[0m \u001b[0mts\u001b[0m\u001b[0;34m)\u001b[0m \u001b[0;31m#solver settings not as defined as per matlab\u001b[0m\u001b[0;34m\u001b[0m\u001b[0m\n\u001b[1;32m      3\u001b[0m \u001b[0;34m\u001b[0m\u001b[0m\n\u001b[1;32m      4\u001b[0m \u001b[0;31m#Simulation statistics\u001b[0m\u001b[0;34m\u001b[0m\u001b[0;34m\u001b[0m\u001b[0m\n\u001b[1;32m      5\u001b[0m \u001b[0mstats_Dcum\u001b[0m \u001b[0;34m=\u001b[0m \u001b[0msum\u001b[0m\u001b[0;34m(\u001b[0m\u001b[0mYs\u001b[0m\u001b[0;34m[\u001b[0m\u001b[0;34m:\u001b[0m\u001b[0;34m,\u001b[0m\u001b[0;36m7\u001b[0m\u001b[0;34m]\u001b[0m\u001b[0;34m)\u001b[0m\u001b[0;34m\u001b[0m\u001b[0m\n",
      "\u001b[0;31mNameError\u001b[0m: name 'np' is not defined"
     ]
    }
   ],
   "source": [
    "ts = np.linspace(0, outbreak_pTime, 0.1)\n",
    "Ys = odeint(dY_dt, outbreak_y0, ts) #solver settings not as defined as per matlab\n",
    "\n",
    "#Simulation statistics\n",
    "stats_Dcum = sum(Ys[:,7])\n",
    "stats_Hcum = sum(Ys[:,8])\n",
    "\n",
    "#% Sims - Get to Crossing\n",
    "#opts=odeset('reltol',1e-8,'maxstep',0.1,'events',@intervene_trigger);\n",
    "#[tpre,ypre,te,ye,ie]=ode45(@covid_model_ga,[0:1:outbreak.pTime], outbreak.y0,opts,pars,agepars);\n"
   ]
  },
  {
   "cell_type": "code",
   "execution_count": 2,
   "metadata": {},
   "outputs": [
    {
     "ename": "NameError",
     "evalue": "name 'Ys' is not defined",
     "output_type": "error",
     "traceback": [
      "\u001b[0;31m---------------------------------------------------------------------------\u001b[0m",
      "\u001b[0;31mNameError\u001b[0m                                 Traceback (most recent call last)",
      "\u001b[0;32m<ipython-input-2-3376478d2b68>\u001b[0m in \u001b[0;36m<module>\u001b[0;34m()\u001b[0m\n\u001b[0;32m----> 1\u001b[0;31m \u001b[0mYs\u001b[0m\u001b[0;34m[\u001b[0m\u001b[0;36m1\u001b[0m\u001b[0;34m]\u001b[0m\u001b[0;34m\u001b[0m\u001b[0m\n\u001b[0m",
      "\u001b[0;31mNameError\u001b[0m: name 'Ys' is not defined"
     ]
    }
   ],
   "source": [
    "Ys[1]"
   ]
  },
  {
   "cell_type": "code",
   "execution_count": null,
   "metadata": {},
   "outputs": [],
   "source": [
    "fig = plt.figure()\n",
    "ax1 = fig.add_axes([0.1, 0.5, 0.8, 0.4],\n",
    "                   xticklabels=[], ylim=(0, 10))\n",
    "ax2 = fig.add_axes([0.1, 0.1, 0.8, 0.4],\n",
    "                   ylim=(0, 10))\n"
   ]
  },
  {
   "cell_type": "markdown",
   "metadata": {},
   "source": [
    "Plotting"
   ]
  },
  {
   "cell_type": "code",
   "execution_count": null,
   "metadata": {},
   "outputs": [],
   "source": [
    "fig = plt.figure()\n",
    "ax1 = fig.add_axes([0.1, 0.5, 0.8, 0.4],\n",
    "                   xticklabels=[], ylim=(0, 10))\n",
    "ax2 = fig.add_axes([0.1, 0.1, 0.8, 0.4],\n",
    "                   ylim=(0, 10))\n",
    "\n",
    "x = np.linspace(0, 10)\n",
    "ax1.plot(Ps[:,6])\n",
    "ax2.plot(Ps[:,7]);\n",
    "plt.xlabel(\"Time\")\n",
    "plt.ylabel(\"Absolute Cell Number\")\n",
    "plt.legend();"
   ]
  },
  {
   "cell_type": "code",
   "execution_count": null,
   "metadata": {},
   "outputs": [],
   "source": []
  }
 ],
 "metadata": {
  "kernelspec": {
   "display_name": "Python 3",
   "language": "python",
   "name": "python3"
  },
  "language_info": {
   "codemirror_mode": {
    "name": "ipython",
    "version": 3
   },
   "file_extension": ".py",
   "mimetype": "text/x-python",
   "name": "python",
   "nbconvert_exporter": "python",
   "pygments_lexer": "ipython3",
   "version": "3.6.3"
  }
 },
 "nbformat": 4,
 "nbformat_minor": 2
}
